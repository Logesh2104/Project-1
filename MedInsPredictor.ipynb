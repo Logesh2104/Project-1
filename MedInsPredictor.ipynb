{
  "nbformat": 4,
  "nbformat_minor": 0,
  "metadata": {
    "colab": {
      "provenance": []
    },
    "kernelspec": {
      "name": "python3",
      "display_name": "Python 3"
    },
    "language_info": {
      "name": "python"
    }
  },
  "cells": [
    {
      "cell_type": "code",
      "source": [
        "import pandas as pd\n",
        "from sklearn.model_selection import train_test_split\n",
        "from sklearn.linear_model import LinearRegression\n",
        "data = pd.read_csv('/content/insurance.csv')\n",
        "data = pd.get_dummies(data, columns=['sex', 'smoker', 'region'])\n",
        "X = data.drop('charges', axis=1)\n",
        "y = data['charges']\n",
        "X_train, X_test, y_train, y_test = train_test_split(X, y, test_size=0.2, random_state=42)\n",
        "model = LinearRegression()\n",
        "model.fit(X_train, y_train)\n",
        "y_pred = model.predict(X_test)\n",
        "def predict_insurance_cost(age, sex, bmi, children, smoker, region):\n",
        "    input_data = pd.DataFrame({\n",
        "        'age': [age],\n",
        "        'bmi': [bmi],\n",
        "        'children': [children],\n",
        "        'sex_female': [1 if sex == 'female' else 0],\n",
        "        'sex_male': [1 if sex == 'male' else 0],\n",
        "        'smoker_no': [1 if smoker == 'no' else 0],\n",
        "        'smoker_yes': [1 if smoker == 'yes' else 0],\n",
        "        'region_northeast': [1 if region == 'northeast' else 0],\n",
        "        'region_northwest': [1 if region == 'northwest' else 0],\n",
        "        'region_southeast': [1 if region == 'southeast' else 0],\n",
        "        'region_southwest': [1 if region == 'southwest' else 0]\n",
        "    })\n",
        "    predicted_cost = model.predict(input_data)\n",
        "    return predicted_cost[0]\n",
        "print(\"Give the following details:\")\n",
        "age = int(input(\"Age: \"))\n",
        "sex = input(\"Sex (male/female): \").lower()\n",
        "bmi = float(input(\"BMI: \"))\n",
        "children = int(input(\"Number of children: \"))\n",
        "smoker = input(\"Smoker (yes/no): \").lower()\n",
        "region = input(\"Region (northeast, northwest, southeast, southwest): \").lower()\n",
        "predicted_cost = predict_insurance_cost(age, sex, bmi, children, smoker, region)\n",
        "print(f'Predicted Insurance Cost: {predicted_cost}')\n"
      ],
      "metadata": {
        "colab": {
          "base_uri": "https://localhost:8080/"
        },
        "id": "zmTUJADrAiYO",
        "outputId": "e7b7f6a0-6628-49e7-d0e4-f46a223712b0"
      },
      "execution_count": 17,
      "outputs": [
        {
          "output_type": "stream",
          "name": "stdout",
          "text": [
            "Give the following details:\n",
            "Age: 25\n",
            "Sex (male/female): male\n",
            "BMI: 25\n",
            "Number of children: 3\n",
            "Smoker (yes/no): yes\n",
            "Region (northeast, northwest, southeast, southwest): northeast\n",
            "Predicted Insurance Cost: 27828.860908865725\n"
          ]
        }
      ]
    }
  ]
}